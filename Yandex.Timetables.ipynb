{
 "cells": [
  {
   "cell_type": "code",
   "execution_count": 1,
   "metadata": {},
   "outputs": [],
   "source": [
    "import json\n",
    "import requests\n",
    "import pandas as pd\n",
    "import geopandas as gpd\n",
    "import matplotlib\n",
    "import numpy as np\n",
    "\n",
    "from pandas.io.json import json_normalize\n",
    "from shapely.geometry import Point, Polygon"
   ]
  },
  {
   "cell_type": "markdown",
   "metadata": {},
   "source": [
    "# Количество станций"
   ]
  },
  {
   "cell_type": "markdown",
   "metadata": {},
   "source": [
    "Референс Яндекса на список всех станций: https://yandex.ru/dev/rasp/doc/reference/stations-list-docpage/"
   ]
  },
  {
   "cell_type": "markdown",
   "metadata": {},
   "source": [
    "Получим json со всеми станциями."
   ]
  },
  {
   "cell_type": "code",
   "execution_count": 2,
   "metadata": {},
   "outputs": [],
   "source": [
    "lang = 'ru_RU'\n",
    "format = 'json'\n",
    "url_base = 'https://api.rasp.yandex.net/v3.0/'\n",
    "api_key = '3d4db511-c803-4569-a638-e0babb6cbccc'\n",
    "url = (url_base + 'stations_list/?' + 'apikey=' + api_key +\n",
    "       '&lang=' + lang +\n",
    "       '&format=' + format\n",
    "      )"
   ]
  },
  {
   "cell_type": "code",
   "execution_count": 3,
   "metadata": {},
   "outputs": [],
   "source": [
    "r = requests.get(url)\n",
    "r_json = r.json()"
   ]
  },
  {
   "cell_type": "code",
   "execution_count": 4,
   "metadata": {},
   "outputs": [
    {
     "data": {
      "text/plain": [
       "{'regions': [{'settlements': [{'title': 'Банжул',\n",
       "     'codes': {'yandex_code': 'c21012'},\n",
       "     'stations': [{'direction': '',\n",
       "       'codes': {'yandex_code': 's9628059'},\n",
       "       'station_type': 'airport',\n",
       "       'title': 'Юндум',\n",
       "       'longitude': -16.652222,\n",
       "       'transport_type': 'plane',\n",
       "       'latitude': 13.338056}]}],\n",
       "   'codes': {},\n",
       "   'title': ''}],\n",
       " 'codes': {'yandex_code': 'l21010'},\n",
       " 'title': 'Гамбия'}"
      ]
     },
     "execution_count": 4,
     "metadata": {},
     "output_type": "execute_result"
    }
   ],
   "source": [
    "r_json['countries'][1]"
   ]
  },
  {
   "cell_type": "markdown",
   "metadata": {},
   "source": [
    "Положим json в датафрейм regions_data.\n",
    "\n",
    "Оставим нужные нам поля:\n",
    "- все поля для stations,\n",
    "- название страны,\n",
    "- название региона,\n",
    "- название поселения,\n",
    "- яндекс-код поселения."
   ]
  },
  {
   "cell_type": "code",
   "execution_count": 5,
   "metadata": {},
   "outputs": [
    {
     "data": {
      "text/html": [
       "<div>\n",
       "<style scoped>\n",
       "    .dataframe tbody tr th:only-of-type {\n",
       "        vertical-align: middle;\n",
       "    }\n",
       "\n",
       "    .dataframe tbody tr th {\n",
       "        vertical-align: top;\n",
       "    }\n",
       "\n",
       "    .dataframe thead th {\n",
       "        text-align: right;\n",
       "    }\n",
       "</style>\n",
       "<table border=\"1\" class=\"dataframe\">\n",
       "  <thead>\n",
       "    <tr style=\"text-align: right;\">\n",
       "      <th></th>\n",
       "      <th>record_direction</th>\n",
       "      <th>record_station_type</th>\n",
       "      <th>record_title</th>\n",
       "      <th>record_longitude</th>\n",
       "      <th>record_transport_type</th>\n",
       "      <th>record_latitude</th>\n",
       "      <th>record_codes.yandex_code</th>\n",
       "      <th>record_codes.esr_code</th>\n",
       "      <th>country_title</th>\n",
       "      <th>country_regions.title</th>\n",
       "      <th>country_regions.settlements.title</th>\n",
       "      <th>country_regions.settlements.codes.yandex_code</th>\n",
       "    </tr>\n",
       "  </thead>\n",
       "  <tbody>\n",
       "    <tr>\n",
       "      <th>0</th>\n",
       "      <td></td>\n",
       "      <td>airport</td>\n",
       "      <td>Бермуды</td>\n",
       "      <td>-64.6787</td>\n",
       "      <td>plane</td>\n",
       "      <td>32.364</td>\n",
       "      <td>s9628674</td>\n",
       "      <td>NaN</td>\n",
       "      <td>Бермудские острова</td>\n",
       "      <td></td>\n",
       "      <td></td>\n",
       "      <td>NaN</td>\n",
       "    </tr>\n",
       "    <tr>\n",
       "      <th>1</th>\n",
       "      <td></td>\n",
       "      <td>airport</td>\n",
       "      <td>Юндум</td>\n",
       "      <td>-16.6522</td>\n",
       "      <td>plane</td>\n",
       "      <td>13.3381</td>\n",
       "      <td>s9628059</td>\n",
       "      <td>NaN</td>\n",
       "      <td>Гамбия</td>\n",
       "      <td></td>\n",
       "      <td>Банжул</td>\n",
       "      <td>c21012</td>\n",
       "    </tr>\n",
       "    <tr>\n",
       "      <th>2</th>\n",
       "      <td></td>\n",
       "      <td>airport</td>\n",
       "      <td>Улей</td>\n",
       "      <td>168.3</td>\n",
       "      <td>plane</td>\n",
       "      <td>-16.3333</td>\n",
       "      <td>s9626301</td>\n",
       "      <td>NaN</td>\n",
       "      <td>Вануату</td>\n",
       "      <td></td>\n",
       "      <td>Улей</td>\n",
       "      <td>c37074</td>\n",
       "    </tr>\n",
       "    <tr>\n",
       "      <th>3</th>\n",
       "      <td></td>\n",
       "      <td>airport</td>\n",
       "      <td>Крейг-Коув</td>\n",
       "      <td>167.917</td>\n",
       "      <td>plane</td>\n",
       "      <td>-16.2667</td>\n",
       "      <td>s9624448</td>\n",
       "      <td>NaN</td>\n",
       "      <td>Вануату</td>\n",
       "      <td></td>\n",
       "      <td>Крейг-Коув</td>\n",
       "      <td>c37075</td>\n",
       "    </tr>\n",
       "    <tr>\n",
       "      <th>4</th>\n",
       "      <td></td>\n",
       "      <td>airport</td>\n",
       "      <td>Танна</td>\n",
       "      <td>169.224</td>\n",
       "      <td>plane</td>\n",
       "      <td>-19.455</td>\n",
       "      <td>s9626086</td>\n",
       "      <td>NaN</td>\n",
       "      <td>Вануату</td>\n",
       "      <td></td>\n",
       "      <td>Танна</td>\n",
       "      <td>c37076</td>\n",
       "    </tr>\n",
       "  </tbody>\n",
       "</table>\n",
       "</div>"
      ],
      "text/plain": [
       "  record_direction record_station_type record_title record_longitude  \\\n",
       "0                              airport      Бермуды         -64.6787   \n",
       "1                              airport        Юндум         -16.6522   \n",
       "2                              airport         Улей            168.3   \n",
       "3                              airport   Крейг-Коув          167.917   \n",
       "4                              airport        Танна          169.224   \n",
       "\n",
       "  record_transport_type record_latitude record_codes.yandex_code  \\\n",
       "0                 plane          32.364                 s9628674   \n",
       "1                 plane         13.3381                 s9628059   \n",
       "2                 plane        -16.3333                 s9626301   \n",
       "3                 plane        -16.2667                 s9624448   \n",
       "4                 plane         -19.455                 s9626086   \n",
       "\n",
       "  record_codes.esr_code       country_title country_regions.title  \\\n",
       "0                   NaN  Бермудские острова                         \n",
       "1                   NaN              Гамбия                         \n",
       "2                   NaN             Вануату                         \n",
       "3                   NaN             Вануату                         \n",
       "4                   NaN             Вануату                         \n",
       "\n",
       "  country_regions.settlements.title  \\\n",
       "0                                     \n",
       "1                            Банжул   \n",
       "2                              Улей   \n",
       "3                        Крейг-Коув   \n",
       "4                             Танна   \n",
       "\n",
       "  country_regions.settlements.codes.yandex_code  \n",
       "0                                           NaN  \n",
       "1                                        c21012  \n",
       "2                                        c37074  \n",
       "3                                        c37075  \n",
       "4                                        c37076  "
      ]
     },
     "execution_count": 5,
     "metadata": {},
     "output_type": "execute_result"
    }
   ],
   "source": [
    "regions_data = json_normalize(\n",
    "    data=r_json['countries'],\n",
    "    record_path=['regions', 'settlements', 'stations'],\n",
    "    meta=['title',\n",
    "         ['regions', 'title'],\n",
    "         ['regions', 'settlements', 'title'],\n",
    "         ['regions', 'settlements', 'codes', 'yandex_code'],\n",
    "         ],\n",
    "    errors='ignore',\n",
    "    record_prefix='record_',\n",
    "    meta_prefix='country_',\n",
    "    sep='.'\n",
    ")\n",
    "regions_data.head(5)"
   ]
  },
  {
   "cell_type": "markdown",
   "metadata": {},
   "source": [
    "Переименуем столбцы."
   ]
  },
  {
   "cell_type": "code",
   "execution_count": 6,
   "metadata": {},
   "outputs": [],
   "source": [
    "regions_data.columns = ['station_direction',\n",
    "                        'station_type',\n",
    "                        'station_name',\n",
    "                        'station_lon',\n",
    "                        'transport_type',\n",
    "                        'station_lat',\n",
    "                        'station_yandex_code',\n",
    "                        'station_esr_code',\n",
    "                        'country',\n",
    "                        'region',\n",
    "                        'settlement_name',\n",
    "                        'settlement_yandex_code'\n",
    "                       ]"
   ]
  },
  {
   "cell_type": "code",
   "execution_count": 17,
   "metadata": {},
   "outputs": [
    {
     "data": {
      "text/html": [
       "<div>\n",
       "<style scoped>\n",
       "    .dataframe tbody tr th:only-of-type {\n",
       "        vertical-align: middle;\n",
       "    }\n",
       "\n",
       "    .dataframe tbody tr th {\n",
       "        vertical-align: top;\n",
       "    }\n",
       "\n",
       "    .dataframe thead th {\n",
       "        text-align: right;\n",
       "    }\n",
       "</style>\n",
       "<table border=\"1\" class=\"dataframe\">\n",
       "  <thead>\n",
       "    <tr style=\"text-align: right;\">\n",
       "      <th></th>\n",
       "      <th>station_direction</th>\n",
       "      <th>station_type</th>\n",
       "      <th>station_name</th>\n",
       "      <th>station_lon</th>\n",
       "      <th>transport_type</th>\n",
       "      <th>station_lat</th>\n",
       "      <th>station_yandex_code</th>\n",
       "      <th>station_esr_code</th>\n",
       "      <th>country</th>\n",
       "      <th>region</th>\n",
       "      <th>settlement_name</th>\n",
       "      <th>settlement_yandex_code</th>\n",
       "    </tr>\n",
       "  </thead>\n",
       "  <tbody>\n",
       "    <tr>\n",
       "      <th>50582</th>\n",
       "      <td>Горьковское</td>\n",
       "      <td>train_station</td>\n",
       "      <td>Москва (Курский вокзал)</td>\n",
       "      <td>37.660784</td>\n",
       "      <td>train</td>\n",
       "      <td>55.757383</td>\n",
       "      <td>s2000001</td>\n",
       "      <td>191602</td>\n",
       "      <td>Россия</td>\n",
       "      <td>Москва и Московская область</td>\n",
       "      <td>Москва</td>\n",
       "      <td>c213</td>\n",
       "    </tr>\n",
       "    <tr>\n",
       "      <th>50583</th>\n",
       "      <td>Ярославское</td>\n",
       "      <td>train_station</td>\n",
       "      <td>Москва (Ярославский вокзал)</td>\n",
       "      <td>37.657484</td>\n",
       "      <td>train</td>\n",
       "      <td>55.777685</td>\n",
       "      <td>s2000002</td>\n",
       "      <td>195506</td>\n",
       "      <td>Россия</td>\n",
       "      <td>Москва и Московская область</td>\n",
       "      <td>Москва</td>\n",
       "      <td>c213</td>\n",
       "    </tr>\n",
       "    <tr>\n",
       "      <th>50584</th>\n",
       "      <td>Казанское</td>\n",
       "      <td>train_station</td>\n",
       "      <td>Москва (Казанский вокзал)</td>\n",
       "      <td>37.657909</td>\n",
       "      <td>train</td>\n",
       "      <td>55.773941</td>\n",
       "      <td>s2000003</td>\n",
       "      <td>194013</td>\n",
       "      <td>Россия</td>\n",
       "      <td>Москва и Московская область</td>\n",
       "      <td>Москва</td>\n",
       "      <td>c213</td>\n",
       "    </tr>\n",
       "    <tr>\n",
       "      <th>50585</th>\n",
       "      <td>Павелецкое</td>\n",
       "      <td>train_station</td>\n",
       "      <td>Москва (Павелецкий вокзал)</td>\n",
       "      <td>37.640771</td>\n",
       "      <td>train</td>\n",
       "      <td>55.729498</td>\n",
       "      <td>s2000005</td>\n",
       "      <td>193519</td>\n",
       "      <td>Россия</td>\n",
       "      <td>Москва и Московская область</td>\n",
       "      <td>Москва</td>\n",
       "      <td>c213</td>\n",
       "    </tr>\n",
       "    <tr>\n",
       "      <th>50586</th>\n",
       "      <td>Белорусское</td>\n",
       "      <td>train_station</td>\n",
       "      <td>Москва (Белорусский вокзал)</td>\n",
       "      <td>37.580272</td>\n",
       "      <td>train</td>\n",
       "      <td>55.776764</td>\n",
       "      <td>s2000006</td>\n",
       "      <td>198230</td>\n",
       "      <td>Россия</td>\n",
       "      <td>Москва и Московская область</td>\n",
       "      <td>Москва</td>\n",
       "      <td>c213</td>\n",
       "    </tr>\n",
       "  </tbody>\n",
       "</table>\n",
       "</div>"
      ],
      "text/plain": [
       "      station_direction   station_type                 station_name  \\\n",
       "50582       Горьковское  train_station      Москва (Курский вокзал)   \n",
       "50583       Ярославское  train_station  Москва (Ярославский вокзал)   \n",
       "50584         Казанское  train_station    Москва (Казанский вокзал)   \n",
       "50585        Павелецкое  train_station   Москва (Павелецкий вокзал)   \n",
       "50586       Белорусское  train_station  Москва (Белорусский вокзал)   \n",
       "\n",
       "       station_lon transport_type  station_lat station_yandex_code  \\\n",
       "50582    37.660784          train    55.757383            s2000001   \n",
       "50583    37.657484          train    55.777685            s2000002   \n",
       "50584    37.657909          train    55.773941            s2000003   \n",
       "50585    37.640771          train    55.729498            s2000005   \n",
       "50586    37.580272          train    55.776764            s2000006   \n",
       "\n",
       "      station_esr_code country                       region settlement_name  \\\n",
       "50582           191602  Россия  Москва и Московская область          Москва   \n",
       "50583           195506  Россия  Москва и Московская область          Москва   \n",
       "50584           194013  Россия  Москва и Московская область          Москва   \n",
       "50585           193519  Россия  Москва и Московская область          Москва   \n",
       "50586           198230  Россия  Москва и Московская область          Москва   \n",
       "\n",
       "      settlement_yandex_code  \n",
       "50582                   c213  \n",
       "50583                   c213  \n",
       "50584                   c213  \n",
       "50585                   c213  \n",
       "50586                   c213  "
      ]
     },
     "execution_count": 17,
     "metadata": {},
     "output_type": "execute_result"
    }
   ],
   "source": [
    "regions_data[regions_data['settlement_name'] == 'Москва'].head(5)"
   ]
  },
  {
   "cell_type": "markdown",
   "metadata": {},
   "source": [
    "Заменим пустые строки на NaN."
   ]
  },
  {
   "cell_type": "code",
   "execution_count": 9,
   "metadata": {},
   "outputs": [],
   "source": [
    "regions_data = regions_data.replace('', np.nan)"
   ]
  },
  {
   "cell_type": "markdown",
   "metadata": {},
   "source": [
    "Интересно, что Я.Расписание к сетелменту Москва относит станции с 'transport_type': 'pseudo-gortrans' в Московской области. Например, удивительную станцию Бококо-Акулово в городском округе Озёры МО:"
   ]
  },
  {
   "cell_type": "code",
   "execution_count": 12,
   "metadata": {},
   "outputs": [
    {
     "data": {
      "text/html": [
       "<div>\n",
       "<style scoped>\n",
       "    .dataframe tbody tr th:only-of-type {\n",
       "        vertical-align: middle;\n",
       "    }\n",
       "\n",
       "    .dataframe tbody tr th {\n",
       "        vertical-align: top;\n",
       "    }\n",
       "\n",
       "    .dataframe thead th {\n",
       "        text-align: right;\n",
       "    }\n",
       "</style>\n",
       "<table border=\"1\" class=\"dataframe\">\n",
       "  <thead>\n",
       "    <tr style=\"text-align: right;\">\n",
       "      <th></th>\n",
       "      <th>station_direction</th>\n",
       "      <th>station_type</th>\n",
       "      <th>station_name</th>\n",
       "      <th>station_lon</th>\n",
       "      <th>transport_type</th>\n",
       "      <th>station_lat</th>\n",
       "      <th>station_yandex_code</th>\n",
       "      <th>station_esr_code</th>\n",
       "      <th>country</th>\n",
       "      <th>region</th>\n",
       "      <th>settlement_name</th>\n",
       "      <th>settlement_yandex_code</th>\n",
       "    </tr>\n",
       "  </thead>\n",
       "  <tbody>\n",
       "    <tr>\n",
       "      <th>53002</th>\n",
       "      <td>NaN</td>\n",
       "      <td>unknown</td>\n",
       "      <td>Бококо-Акулово</td>\n",
       "      <td>38.43516</td>\n",
       "      <td>pseudo-gortrans</td>\n",
       "      <td>54.993925</td>\n",
       "      <td>s9797383</td>\n",
       "      <td>NaN</td>\n",
       "      <td>Россия</td>\n",
       "      <td>Москва и Московская область</td>\n",
       "      <td>Москва</td>\n",
       "      <td>c213</td>\n",
       "    </tr>\n",
       "  </tbody>\n",
       "</table>\n",
       "</div>"
      ],
      "text/plain": [
       "      station_direction station_type    station_name  station_lon  \\\n",
       "53002               NaN      unknown  Бококо-Акулово     38.43516   \n",
       "\n",
       "        transport_type  station_lat station_yandex_code station_esr_code  \\\n",
       "53002  pseudo-gortrans    54.993925            s9797383              NaN   \n",
       "\n",
       "      country                       region settlement_name  \\\n",
       "53002  Россия  Москва и Московская область          Москва   \n",
       "\n",
       "      settlement_yandex_code  \n",
       "53002                   c213  "
      ]
     },
     "execution_count": 12,
     "metadata": {},
     "output_type": "execute_result"
    }
   ],
   "source": [
    "regions_data[regions_data['station_name'] == 'Бококо-Акулово']"
   ]
  },
  {
   "cell_type": "markdown",
   "metadata": {},
   "source": [
    "Возможно, стоит взять границы Москвы и найти все станции в этих границах."
   ]
  },
  {
   "cell_type": "markdown",
   "metadata": {},
   "source": [
    "Возьму шейп Москвы из https://wambachers-osm.website/boundaries/\n",
    "\n",
    "Шейпы:\n",
    "- Moscow_AL4.shp - границы Москвы\n",
    "- Moscow_AL5.shp - границы административных округов\n",
    "- Moscow_AL8.shp - границы районов"
   ]
  },
  {
   "cell_type": "code",
   "execution_count": 13,
   "metadata": {},
   "outputs": [
    {
     "data": {
      "text/html": [
       "<div>\n",
       "<style scoped>\n",
       "    .dataframe tbody tr th:only-of-type {\n",
       "        vertical-align: middle;\n",
       "    }\n",
       "\n",
       "    .dataframe tbody tr th {\n",
       "        vertical-align: top;\n",
       "    }\n",
       "\n",
       "    .dataframe thead th {\n",
       "        text-align: right;\n",
       "    }\n",
       "</style>\n",
       "<table border=\"1\" class=\"dataframe\">\n",
       "  <thead>\n",
       "    <tr style=\"text-align: right;\">\n",
       "      <th></th>\n",
       "      <th>id</th>\n",
       "      <th>country</th>\n",
       "      <th>name</th>\n",
       "      <th>enname</th>\n",
       "      <th>locname</th>\n",
       "      <th>offname</th>\n",
       "      <th>boundary</th>\n",
       "      <th>adminlevel</th>\n",
       "      <th>wikidata</th>\n",
       "      <th>wikimedia</th>\n",
       "      <th>timestamp</th>\n",
       "      <th>note</th>\n",
       "      <th>rpath</th>\n",
       "      <th>ISO3166_2</th>\n",
       "      <th>geometry</th>\n",
       "    </tr>\n",
       "  </thead>\n",
       "  <tbody>\n",
       "    <tr>\n",
       "      <th>0</th>\n",
       "      <td>102269</td>\n",
       "      <td>RUS</td>\n",
       "      <td>Moscow</td>\n",
       "      <td>Moscow</td>\n",
       "      <td>Москва</td>\n",
       "      <td>None</td>\n",
       "      <td>administrative</td>\n",
       "      <td>4</td>\n",
       "      <td>Q649</td>\n",
       "      <td>ru:Москва</td>\n",
       "      <td>2019-07-17 22:02:02</td>\n",
       "      <td>None</td>\n",
       "      <td>102269,1029256,60189,0</td>\n",
       "      <td>RU-MOW</td>\n",
       "      <td>(POLYGON ((36.8031012 55.4408329, 36.8031903 5...</td>\n",
       "    </tr>\n",
       "  </tbody>\n",
       "</table>\n",
       "</div>"
      ],
      "text/plain": [
       "       id country    name  enname locname offname        boundary  adminlevel  \\\n",
       "0  102269     RUS  Moscow  Moscow  Москва    None  administrative           4   \n",
       "\n",
       "  wikidata  wikimedia            timestamp  note                   rpath  \\\n",
       "0     Q649  ru:Москва  2019-07-17 22:02:02  None  102269,1029256,60189,0   \n",
       "\n",
       "  ISO3166_2                                           geometry  \n",
       "0    RU-MOW  (POLYGON ((36.8031012 55.4408329, 36.8031903 5...  "
      ]
     },
     "execution_count": 13,
     "metadata": {},
     "output_type": "execute_result"
    }
   ],
   "source": [
    "%matplotlib inline\n",
    "moscow_shape = gpd.read_file('msk_levels/Moscow_AL4.shp')\n",
    "moscow_shape"
   ]
  },
  {
   "cell_type": "code",
   "execution_count": 231,
   "metadata": {},
   "outputs": [
    {
     "data": {
      "text/plain": [
       "<matplotlib.axes._subplots.AxesSubplot at 0x7f2269285c50>"
      ]
     },
     "execution_count": 231,
     "metadata": {},
     "output_type": "execute_result"
    },
    {
     "data": {
      "image/png": "[encoded data removed]",
      "text/plain": [
       "<Figure size 432x288 with 1 Axes>"
      ]
     },
     "metadata": {
      "needs_background": "light"
     },
     "output_type": "display_data"
    }
   ],
   "source": [
    "moscow_shape.plot()"
   ]
  },
  {
   "cell_type": "markdown",
   "metadata": {},
   "source": [
    "Выглядит похоже. Переведем проекцию в Web Mercator (https://en.wikipedia.org/wiki/Web_Mercator_projection)"
   ]
  },
  {
   "cell_type": "code",
   "execution_count": 14,
   "metadata": {},
   "outputs": [
    {
     "data": {
      "text/plain": [
       "<matplotlib.axes._subplots.AxesSubplot at 0x7fbeed9d6978>"
      ]
     },
     "execution_count": 14,
     "metadata": {},
     "output_type": "execute_result"
    },
    {
     "data": {
      "image/png": "[encoded data removed]",
      "text/plain": [
       "<Figure size 432x288 with 1 Axes>"
      ]
     },
     "metadata": {
      "needs_background": "light"
     },
     "output_type": "display_data"
    }
   ],
   "source": [
    "moscow_shape_wm = moscow_shape.to_crs({'init' :'epsg:3857'})\n",
    "moscow_shape_wm.plot()"
   ]
  },
  {
   "cell_type": "markdown",
   "metadata": {},
   "source": [
    "Добавим колонку про то, попадают ли координаты станции (если они есть) в границы Москвы."
   ]
  },
  {
   "cell_type": "code",
   "execution_count": 18,
   "metadata": {},
   "outputs": [],
   "source": [
    "in_moscow = (lambda row: moscow_shape.contains(Point(row.station_lon, row.station_lat)).bool())"
   ]
  },
  {
   "cell_type": "code",
   "execution_count": 19,
   "metadata": {},
   "outputs": [],
   "source": [
    "regions_data['in_moscow'] = regions_data.apply(in_moscow, axis=1)"
   ]
  },
  {
   "cell_type": "markdown",
   "metadata": {},
   "source": [
    "Посчитаем количество станций в границах Москвы:"
   ]
  },
  {
   "cell_type": "code",
   "execution_count": 24,
   "metadata": {},
   "outputs": [
    {
     "data": {
      "text/plain": [
       "2532"
      ]
     },
     "execution_count": 24,
     "metadata": {},
     "output_type": "execute_result"
    }
   ],
   "source": [
    "stations_in_moscow_borders = regions_data[regions_data['in_moscow']].reset_index(drop=True)\n",
    "len(stations_in_moscow_borders)"
   ]
  },
  {
   "cell_type": "markdown",
   "metadata": {},
   "source": [
    "Посчитаем станции, которые к Москве относит Я.Расписания:"
   ]
  },
  {
   "cell_type": "code",
   "execution_count": 25,
   "metadata": {},
   "outputs": [
    {
     "data": {
      "text/plain": [
       "2884"
      ]
     },
     "execution_count": 25,
     "metadata": {},
     "output_type": "execute_result"
    }
   ],
   "source": [
    "stations_in_moscow_yandex = regions_data[regions_data['settlement_name'] == 'Москва'].reset_index(drop=True)\n",
    "len(stations_in_moscow_yandex)"
   ]
  },
  {
   "cell_type": "markdown",
   "metadata": {},
   "source": [
    "Станции, которые Я относит к Москве, но которые находятся не там:"
   ]
  },
  {
   "cell_type": "code",
   "execution_count": 26,
   "metadata": {},
   "outputs": [
    {
     "data": {
      "text/plain": [
       "1810"
      ]
     },
     "execution_count": 26,
     "metadata": {},
     "output_type": "execute_result"
    }
   ],
   "source": [
    "len(regions_data[(regions_data['settlement_name'] == 'Москва') & (~regions_data['in_moscow'])])"
   ]
  },
  {
   "cell_type": "markdown",
   "metadata": {},
   "source": [
    "И станции в пределах Москвы, которые Я отностит куда-то еще:"
   ]
  },
  {
   "cell_type": "code",
   "execution_count": 28,
   "metadata": {},
   "outputs": [
    {
     "data": {
      "text/plain": [
       "1458"
      ]
     },
     "execution_count": 28,
     "metadata": {},
     "output_type": "execute_result"
    }
   ],
   "source": [
    "in_msk_not_listed = pd.DataFrame(regions_data[(regions_data['settlement_name'] != 'Москва') &\n",
    "                                              (regions_data['in_moscow'])]\n",
    "                                )\n",
    "len(in_msk_not_listed)"
   ]
  },
  {
   "cell_type": "markdown",
   "metadata": {},
   "source": [
    "Посмотрим, куда отнёс их Я:"
   ]
  },
  {
   "cell_type": "code",
   "execution_count": 29,
   "metadata": {},
   "outputs": [
    {
     "data": {
      "text/plain": [
       "array([nan, 'Казань', 'Пучково', 'Свитино (Клёновское с.п.)', 'Весенино',\n",
       "       'Рогозинино', 'Первомайское', 'Знамя Октября', 'Акулово',\n",
       "       'Аксиньино', 'Ватутинки', 'Подольск', 'Ватутинки, деревня',\n",
       "       'Московский', 'Ботаково', 'Ширяево', 'Новые Ватутинки', 'Ерино',\n",
       "       'Яковлевское', 'Кузнецово', 'Ямонтово', 'Сосенки', 'Рассказовка',\n",
       "       'Долгопрудный', 'Зеленоград', 'Шарапово', 'Виноградово', 'Химки',\n",
       "       'Косовка', 'Щербинка', 'Реутов', 'Мытищи', 'Гарнизона Остафьево',\n",
       "       'Зосимова Пустынь', 'Верховье', 'Зверево', 'Киевский', 'Крёкшино',\n",
       "       'ИЦ Сколково', 'Ульяновского лесопарка', 'Грибки', 'Мосрентген',\n",
       "       'Коммунарка', 'Рассудово', 'Бекасово', 'Львово', 'Курилово',\n",
       "       'Лукошкино', 'Кресты', 'Красная Пахра', 'Красное', 'Киселево',\n",
       "       'Томилино', 'Юрьево', 'Новокурьяново', 'Переделкино', 'Рогово',\n",
       "       'Починки', 'Остафьево', 'Ознобишино', 'Мешково', 'Михайловское',\n",
       "       'Минзаг', 'Чириково (Кленовское с/п)',\n",
       "       'Чириково (Краснопахорское с/п)', 'Толстопальцево', 'Захарково',\n",
       "       'Филино', 'Подрезково', 'Изварино', 'Десна', 'Валуево',\n",
       "       'Воскресенское', 'Газопровод', 'Аэропорт Внуково', 'Молжаниновка',\n",
       "       'Клёново', 'Кокошкино', 'Успенское', 'Люберцы', 'Красногорск',\n",
       "       'Былово', 'Жохово', 'Вороново', 'Пыхтино', 'Марьино', 'Ликова',\n",
       "       'Некрасовка', 'Мякинино', 'Ремзавод', 'Внуково', 'Руднево',\n",
       "       'Заречье', 'Горки-10', 'Шеломово', 'Товарищево', 'Троицкое',\n",
       "       'Софьино', 'Сахарово', 'Свитино (Вороновское с.п.)', 'Троицк',\n",
       "       'Чернецкое', 'Ясенки', 'Нагорное', 'Алабушево', 'Щапово',\n",
       "       'Шишкин Лес', 'Фабрика имени 1 мая', 'Юрьевка', 'Юдановка'],\n",
       "      dtype=object)"
      ]
     },
     "execution_count": 29,
     "metadata": {},
     "output_type": "execute_result"
    }
   ],
   "source": [
    "in_msk_not_listed['settlement_name'].unique()"
   ]
  },
  {
   "cell_type": "markdown",
   "metadata": {},
   "source": [
    "В Москву ходит псевдо-гортранс из Казани:"
   ]
  },
  {
   "cell_type": "code",
   "execution_count": 30,
   "metadata": {},
   "outputs": [
    {
     "data": {
      "text/html": [
       "<div>\n",
       "<style scoped>\n",
       "    .dataframe tbody tr th:only-of-type {\n",
       "        vertical-align: middle;\n",
       "    }\n",
       "\n",
       "    .dataframe tbody tr th {\n",
       "        vertical-align: top;\n",
       "    }\n",
       "\n",
       "    .dataframe thead th {\n",
       "        text-align: right;\n",
       "    }\n",
       "</style>\n",
       "<table border=\"1\" class=\"dataframe\">\n",
       "  <thead>\n",
       "    <tr style=\"text-align: right;\">\n",
       "      <th></th>\n",
       "      <th>station_direction</th>\n",
       "      <th>station_type</th>\n",
       "      <th>station_name</th>\n",
       "      <th>station_lon</th>\n",
       "      <th>transport_type</th>\n",
       "      <th>station_lat</th>\n",
       "      <th>station_yandex_code</th>\n",
       "      <th>station_esr_code</th>\n",
       "      <th>country</th>\n",
       "      <th>region</th>\n",
       "      <th>settlement_name</th>\n",
       "      <th>settlement_yandex_code</th>\n",
       "      <th>in_moscow</th>\n",
       "    </tr>\n",
       "  </thead>\n",
       "  <tbody>\n",
       "    <tr>\n",
       "      <th>42797</th>\n",
       "      <td>NaN</td>\n",
       "      <td>unknown</td>\n",
       "      <td>Микрорайон \"Град Московский\"</td>\n",
       "      <td>37.373066</td>\n",
       "      <td>pseudo-gortrans</td>\n",
       "      <td>55.588073</td>\n",
       "      <td>s9776717</td>\n",
       "      <td>NaN</td>\n",
       "      <td>Россия</td>\n",
       "      <td>Республика Татарстан</td>\n",
       "      <td>Казань</td>\n",
       "      <td>c43</td>\n",
       "      <td>True</td>\n",
       "    </tr>\n",
       "    <tr>\n",
       "      <th>42798</th>\n",
       "      <td>NaN</td>\n",
       "      <td>unknown</td>\n",
       "      <td>Метро \"Южная\"</td>\n",
       "      <td>37.609582</td>\n",
       "      <td>pseudo-gortrans</td>\n",
       "      <td>55.622593</td>\n",
       "      <td>s9776733</td>\n",
       "      <td>NaN</td>\n",
       "      <td>Россия</td>\n",
       "      <td>Республика Татарстан</td>\n",
       "      <td>Казань</td>\n",
       "      <td>c43</td>\n",
       "      <td>True</td>\n",
       "    </tr>\n",
       "    <tr>\n",
       "      <th>42799</th>\n",
       "      <td>NaN</td>\n",
       "      <td>unknown</td>\n",
       "      <td>Метро \"Пражская\"</td>\n",
       "      <td>37.603730</td>\n",
       "      <td>pseudo-gortrans</td>\n",
       "      <td>55.612034</td>\n",
       "      <td>s9776734</td>\n",
       "      <td>NaN</td>\n",
       "      <td>Россия</td>\n",
       "      <td>Республика Татарстан</td>\n",
       "      <td>Казань</td>\n",
       "      <td>c43</td>\n",
       "      <td>True</td>\n",
       "    </tr>\n",
       "    <tr>\n",
       "      <th>42828</th>\n",
       "      <td>NaN</td>\n",
       "      <td>unknown</td>\n",
       "      <td>Д/к \"Заречье\"</td>\n",
       "      <td>37.920949</td>\n",
       "      <td>pseudo-gortrans</td>\n",
       "      <td>55.683278</td>\n",
       "      <td>s9780287</td>\n",
       "      <td>NaN</td>\n",
       "      <td>Россия</td>\n",
       "      <td>Республика Татарстан</td>\n",
       "      <td>Казань</td>\n",
       "      <td>c43</td>\n",
       "      <td>True</td>\n",
       "    </tr>\n",
       "    <tr>\n",
       "      <th>42838</th>\n",
       "      <td>NaN</td>\n",
       "      <td>unknown</td>\n",
       "      <td>Таможня</td>\n",
       "      <td>37.536467</td>\n",
       "      <td>pseudo-gortrans</td>\n",
       "      <td>55.511672</td>\n",
       "      <td>s9781102</td>\n",
       "      <td>NaN</td>\n",
       "      <td>Россия</td>\n",
       "      <td>Республика Татарстан</td>\n",
       "      <td>Казань</td>\n",
       "      <td>c43</td>\n",
       "      <td>True</td>\n",
       "    </tr>\n",
       "  </tbody>\n",
       "</table>\n",
       "</div>"
      ],
      "text/plain": [
       "      station_direction station_type                  station_name  \\\n",
       "42797               NaN      unknown  Микрорайон \"Град Московский\"   \n",
       "42798               NaN      unknown                 Метро \"Южная\"   \n",
       "42799               NaN      unknown              Метро \"Пражская\"   \n",
       "42828               NaN      unknown                 Д/к \"Заречье\"   \n",
       "42838               NaN      unknown                       Таможня   \n",
       "\n",
       "       station_lon   transport_type  station_lat station_yandex_code  \\\n",
       "42797    37.373066  pseudo-gortrans    55.588073            s9776717   \n",
       "42798    37.609582  pseudo-gortrans    55.622593            s9776733   \n",
       "42799    37.603730  pseudo-gortrans    55.612034            s9776734   \n",
       "42828    37.920949  pseudo-gortrans    55.683278            s9780287   \n",
       "42838    37.536467  pseudo-gortrans    55.511672            s9781102   \n",
       "\n",
       "      station_esr_code country                region settlement_name  \\\n",
       "42797              NaN  Россия  Республика Татарстан          Казань   \n",
       "42798              NaN  Россия  Республика Татарстан          Казань   \n",
       "42799              NaN  Россия  Республика Татарстан          Казань   \n",
       "42828              NaN  Россия  Республика Татарстан          Казань   \n",
       "42838              NaN  Россия  Республика Татарстан          Казань   \n",
       "\n",
       "      settlement_yandex_code  in_moscow  \n",
       "42797                    c43       True  \n",
       "42798                    c43       True  \n",
       "42799                    c43       True  \n",
       "42828                    c43       True  \n",
       "42838                    c43       True  "
      ]
     },
     "execution_count": 30,
     "metadata": {},
     "output_type": "execute_result"
    }
   ],
   "source": [
    "in_msk_not_listed[in_msk_not_listed['settlement_name'] == 'Казань'].head()"
   ]
  },
  {
   "cell_type": "markdown",
   "metadata": {},
   "source": [
    "API Яндес.Расписаний для Москвы дает данные о поездах, автобусах, псевдо-гортранс-автобусах (?) и самолетах."
   ]
  },
  {
   "cell_type": "code",
   "execution_count": 32,
   "metadata": {},
   "outputs": [
    {
     "data": {
      "text/plain": [
       "array(['pseudo-gortrans', 'bus', 'train', 'plane'], dtype=object)"
      ]
     },
     "execution_count": 32,
     "metadata": {},
     "output_type": "execute_result"
    }
   ],
   "source": [
    "stations_in_moscow_borders['transport_type'].unique()"
   ]
  },
  {
   "cell_type": "markdown",
   "metadata": {},
   "source": [
    "Интересно, что:\n",
    "- в референсе (https://yandex.ru/dev/rasp/doc/reference/stations-list-docpage/) про псевдо-гортранс ничего не сказано\n",
    "\n",
    "- нет типа транспорта для электричек, который есть в референсе - suburban\n",
    "\n",
    "Поскольку задание про общественный транспорт в Москве, оставим автобусы, электрички, МЦК и псевдо-гортранс."
   ]
  },
  {
   "cell_type": "markdown",
   "metadata": {},
   "source": [
    "Типы станций в Москве:"
   ]
  },
  {
   "cell_type": "code",
   "execution_count": 34,
   "metadata": {},
   "outputs": [
    {
     "data": {
      "text/plain": [
       "array(['unknown', 'bus_stop', 'train_station', 'airport', 'bus_station',\n",
       "       'station', 'platform', nan, 'stop'], dtype=object)"
      ]
     },
     "execution_count": 34,
     "metadata": {},
     "output_type": "execute_result"
    }
   ],
   "source": [
    "stations_in_moscow_borders['station_type'].unique()"
   ]
  },
  {
   "cell_type": "markdown",
   "metadata": {},
   "source": [
    "# Расписание по станции"
   ]
  },
  {
   "cell_type": "markdown",
   "metadata": {},
   "source": [
    "Референс: https://yandex.ru/dev/rasp/doc/reference/schedule-on-station-docpage/"
   ]
  },
  {
   "cell_type": "markdown",
   "metadata": {},
   "source": [
    "Посмотрим, как API отдает расписание по станциям:"
   ]
  },
  {
   "cell_type": "code",
   "execution_count": 35,
   "metadata": {},
   "outputs": [],
   "source": [
    "lang = 'ru_RU'\n",
    "format = 'json'\n",
    "url_base = 'https://api.rasp.yandex.net/v3.0/'\n",
    "api_key = '3d4db511-c803-4569-a638-e0babb6cbccc'\n",
    "station = 's9741948'\n",
    "#station = 's9776859'\n",
    "date = '2019-07-22'\n",
    "limit = '159'\n",
    "\n",
    "url = (url_base + 'schedule/?' +\n",
    "       'apikey=' + api_key +\n",
    "       '&station=' + station +\n",
    "       '&lang=' + lang +\n",
    "       '&format=' + format +\n",
    "       '&date=' + date +\n",
    "       '&limit=' + limit\n",
    "      )"
   ]
  },
  {
   "cell_type": "code",
   "execution_count": 36,
   "metadata": {},
   "outputs": [],
   "source": [
    "r = requests.get(url)\n",
    "r_json = r.json()"
   ]
  },
  {
   "cell_type": "markdown",
   "metadata": {},
   "source": [
    "Для некоторых станций, например s9776859, Я не находит расписания."
   ]
  },
  {
   "cell_type": "markdown",
   "metadata": {},
   "source": [
    "#  Список станций следования"
   ]
  },
  {
   "cell_type": "markdown",
   "metadata": {},
   "source": [
    "Референс: https://yandex.ru/dev/rasp/doc/reference/list-stations-route-docpage/"
   ]
  },
  {
   "cell_type": "markdown",
   "metadata": {},
   "source": [
    "Посмотрим, как API отдает список станций следования:"
   ]
  },
  {
   "cell_type": "code",
   "execution_count": 37,
   "metadata": {},
   "outputs": [],
   "source": [
    "lang = 'ru_RU'\n",
    "format = 'json'\n",
    "url_base = 'https://api.rasp.yandex.net/v3.0/'\n",
    "api_key = '3d4db511-c803-4569-a638-e0babb6cbccc'\n",
    "uid = '3_0_9836831_4'\n",
    "show_systems = 'yandex'\n",
    "\n",
    "url = (url_base + 'thread/?' +\n",
    "       'apikey=' + api_key +\n",
    "       '&uid=' + uid +\n",
    "       '&lang=' + lang +\n",
    "       '&format=' + format +\n",
    "       '&show_systems=' + show_systems\n",
    "      )\n",
    "\n",
    "r = requests.get(url)\n",
    "r_json = r.json()"
   ]
  },
  {
   "cell_type": "markdown",
   "metadata": {},
   "source": [
    "# Расписание между станциями"
   ]
  },
  {
   "cell_type": "markdown",
   "metadata": {},
   "source": [
    "Референс: https://yandex.ru/dev/rasp/doc/reference/schedule-point-point-docpage/"
   ]
  },
  {
   "cell_type": "code",
   "execution_count": null,
   "metadata": {},
   "outputs": [],
   "source": []
  }
 ],
 "metadata": {
  "kernelspec": {
   "display_name": "Python 3",
   "language": "python",
   "name": "python3"
  },
  "language_info": {
   "codemirror_mode": {
    "name": "ipython",
    "version": 3
   },
   "file_extension": ".py",
   "mimetype": "text/x-python",
   "name": "python",
   "nbconvert_exporter": "python",
   "pygments_lexer": "ipython3",
   "version": "3.7.3"
  }
 },
 "nbformat": 4,
 "nbformat_minor": 2
}
